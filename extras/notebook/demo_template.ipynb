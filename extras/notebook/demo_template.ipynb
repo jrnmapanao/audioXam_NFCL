{
  "nbformat": 4,
  "nbformat_minor": 0,
  "metadata": {
    "colab": {
      "name": "demo-template.ipynb",
      "provenance": [],
      "authorship_tag": "ABX9TyOcPyixOD8nFbBSg2WjfZDe",
      "include_colab_link": true
    },
    "kernelspec": {
      "name": "python3",
      "display_name": "Python 3"
    },
    "language_info": {
      "name": "python"
    },
    "accelerator": "GPU"
  },
  "cells": [
    {
      "cell_type": "markdown",
      "metadata": {
        "id": "view-in-github",
        "colab_type": "text"
      },
      "source": [
        "<a href=\"https://colab.research.google.com/github/mimbres/neural-audio-fp/blob/main/extras/notebook/demo_template.ipynb\" target=\"_parent\"><img src=\"https://colab.research.google.com/assets/colab-badge.svg\" alt=\"Open In Colab\"/></a>"
      ]
    },
    {
      "cell_type": "markdown",
      "metadata": {
        "id": "6JO-p5YlzZKQ"
      },
      "source": [
        "# Demo-template\n",
        "\n",
        "This is demo-template.\n",
        "\n",
        "[![Open In Colab](https://colab.research.google.com/assets/colab-badge.svg)](https://colab.research.google.com/github/mimbres/neural-audio-fp/blob/main/extras/notebook/demo_template.ipynb)"
      ]
    },
    {
      "cell_type": "code",
      "metadata": {
        "id": "rDznof-JzYGI"
      },
      "source": [
        ""
      ],
      "execution_count": null,
      "outputs": []
    }
  ]
}
